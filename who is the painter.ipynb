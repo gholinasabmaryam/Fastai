{
 "cells": [
  {
   "cell_type": "markdown",
   "id": "71723881",
   "metadata": {},
   "source": [
    "# Who is the painter?"
   ]
  },
  {
   "cell_type": "markdown",
   "id": "19207220",
   "metadata": {},
   "source": [
    "# Importing the raw data"
   ]
  },
  {
   "cell_type": "code",
   "execution_count": 239,
   "id": "99e5c82a",
   "metadata": {},
   "outputs": [
    {
     "data": {
      "text/html": [
       "<div>\n",
       "<style scoped>\n",
       "    .dataframe tbody tr th:only-of-type {\n",
       "        vertical-align: middle;\n",
       "    }\n",
       "\n",
       "    .dataframe tbody tr th {\n",
       "        vertical-align: top;\n",
       "    }\n",
       "\n",
       "    .dataframe thead th {\n",
       "        text-align: right;\n",
       "    }\n",
       "</style>\n",
       "<table border=\"1\" class=\"dataframe\">\n",
       "  <thead>\n",
       "    <tr style=\"text-align: right;\">\n",
       "      <th></th>\n",
       "      <th>artist</th>\n",
       "      <th>date</th>\n",
       "      <th>genre</th>\n",
       "      <th>pixelsx</th>\n",
       "      <th>pixelsy</th>\n",
       "      <th>size_bytes</th>\n",
       "      <th>source</th>\n",
       "      <th>style</th>\n",
       "      <th>title</th>\n",
       "      <th>artist_group</th>\n",
       "      <th>in_train</th>\n",
       "      <th>new_filename</th>\n",
       "    </tr>\n",
       "  </thead>\n",
       "  <tbody>\n",
       "    <tr>\n",
       "      <th>0</th>\n",
       "      <td>Barnett Newman</td>\n",
       "      <td>1955.0</td>\n",
       "      <td>abstract</td>\n",
       "      <td>15530.0</td>\n",
       "      <td>6911.0</td>\n",
       "      <td>9201912.0</td>\n",
       "      <td>wikiart</td>\n",
       "      <td>Color Field Painting</td>\n",
       "      <td>Uriel</td>\n",
       "      <td>train_only</td>\n",
       "      <td>True</td>\n",
       "      <td>102257.jpg</td>\n",
       "    </tr>\n",
       "    <tr>\n",
       "      <th>1</th>\n",
       "      <td>Barnett Newman</td>\n",
       "      <td>1950.0</td>\n",
       "      <td>abstract</td>\n",
       "      <td>14559.0</td>\n",
       "      <td>6866.0</td>\n",
       "      <td>8867532.0</td>\n",
       "      <td>wikiart</td>\n",
       "      <td>Color Field Painting</td>\n",
       "      <td>Vir Heroicus Sublimis</td>\n",
       "      <td>train_only</td>\n",
       "      <td>True</td>\n",
       "      <td>75232.jpg</td>\n",
       "    </tr>\n",
       "    <tr>\n",
       "      <th>2</th>\n",
       "      <td>kiri nichol</td>\n",
       "      <td>2013.0</td>\n",
       "      <td>NaN</td>\n",
       "      <td>9003.0</td>\n",
       "      <td>9004.0</td>\n",
       "      <td>1756681.0</td>\n",
       "      <td>NaN</td>\n",
       "      <td>Neoplasticism</td>\n",
       "      <td>NaN</td>\n",
       "      <td>test_only</td>\n",
       "      <td>False</td>\n",
       "      <td>32145.jpg</td>\n",
       "    </tr>\n",
       "    <tr>\n",
       "      <th>3</th>\n",
       "      <td>kiri nichol</td>\n",
       "      <td>2013.0</td>\n",
       "      <td>NaN</td>\n",
       "      <td>9003.0</td>\n",
       "      <td>9004.0</td>\n",
       "      <td>1942046.0</td>\n",
       "      <td>NaN</td>\n",
       "      <td>Neoplasticism</td>\n",
       "      <td>NaN</td>\n",
       "      <td>test_only</td>\n",
       "      <td>False</td>\n",
       "      <td>20304.jpg</td>\n",
       "    </tr>\n",
       "    <tr>\n",
       "      <th>4</th>\n",
       "      <td>kiri nichol</td>\n",
       "      <td>2013.0</td>\n",
       "      <td>NaN</td>\n",
       "      <td>9003.0</td>\n",
       "      <td>9004.0</td>\n",
       "      <td>1526212.0</td>\n",
       "      <td>NaN</td>\n",
       "      <td>Neoplasticism</td>\n",
       "      <td>NaN</td>\n",
       "      <td>test_only</td>\n",
       "      <td>False</td>\n",
       "      <td>836.jpg</td>\n",
       "    </tr>\n",
       "  </tbody>\n",
       "</table>\n",
       "</div>"
      ],
      "text/plain": [
       "           artist    date     genre  pixelsx  pixelsy  size_bytes   source  \\\n",
       "0  Barnett Newman  1955.0  abstract  15530.0   6911.0   9201912.0  wikiart   \n",
       "1  Barnett Newman  1950.0  abstract  14559.0   6866.0   8867532.0  wikiart   \n",
       "2     kiri nichol  2013.0       NaN   9003.0   9004.0   1756681.0      NaN   \n",
       "3     kiri nichol  2013.0       NaN   9003.0   9004.0   1942046.0      NaN   \n",
       "4     kiri nichol  2013.0       NaN   9003.0   9004.0   1526212.0      NaN   \n",
       "\n",
       "                  style                  title artist_group  in_train  \\\n",
       "0  Color Field Painting                  Uriel   train_only      True   \n",
       "1  Color Field Painting  Vir Heroicus Sublimis   train_only      True   \n",
       "2         Neoplasticism                    NaN    test_only     False   \n",
       "3         Neoplasticism                    NaN    test_only     False   \n",
       "4         Neoplasticism                    NaN    test_only     False   \n",
       "\n",
       "  new_filename  \n",
       "0   102257.jpg  \n",
       "1    75232.jpg  \n",
       "2    32145.jpg  \n",
       "3    20304.jpg  \n",
       "4      836.jpg  "
      ]
     },
     "execution_count": 239,
     "metadata": {},
     "output_type": "execute_result"
    }
   ],
   "source": [
    "#table of data\n",
    "import pandas as pd\n",
    "\n",
    "df = pd.read_csv(r\"C:\\Users\\Maryam\\Desktop\\DL maryam\\Part 3\\Painter Classification\\all_data_info.csv.zip\")\n",
    "\n",
    "#first few rows:\n",
    "df.head()\n"
   ]
  },
  {
   "cell_type": "markdown",
   "id": "318cc868",
   "metadata": {},
   "source": [
    "# Making the data suitable for our purpose"
   ]
  },
  {
   "cell_type": "markdown",
   "id": "28da8747",
   "metadata": {},
   "source": [
    "## Keeping the Useful Columns"
   ]
  },
  {
   "cell_type": "code",
   "execution_count": 240,
   "id": "6b2561ba",
   "metadata": {},
   "outputs": [
    {
     "data": {
      "text/plain": [
       "Index(['artist', 'date', 'genre', 'pixelsx', 'pixelsy', 'size_bytes', 'source',\n",
       "       'style', 'title', 'artist_group', 'in_train', 'new_filename'],\n",
       "      dtype='object')"
      ]
     },
     "execution_count": 240,
     "metadata": {},
     "output_type": "execute_result"
    }
   ],
   "source": [
    "#thw raw data contains so many features that in this code we don't need them so I will only keep the filename and the artists name\n",
    "\n",
    "#raw data columns:\n",
    "df.columns"
   ]
  },
  {
   "cell_type": "code",
   "execution_count": 241,
   "id": "3e3a7e8e",
   "metadata": {},
   "outputs": [
    {
     "data": {
      "text/plain": [
       "Index(['new_filename', 'artist'], dtype='object')"
      ]
     },
     "execution_count": 241,
     "metadata": {},
     "output_type": "execute_result"
    }
   ],
   "source": [
    "#we only need the filename & the artists name so lets keep that\n",
    "df_clean = df[[\"new_filename\", \"artist\"]].copy()  \n",
    "df_clean.columns"
   ]
  },
  {
   "cell_type": "markdown",
   "id": "84656e5f",
   "metadata": {},
   "source": [
    "## Noise reduction filter"
   ]
  },
  {
   "cell_type": "code",
   "execution_count": 242,
   "id": "ee3e4f90",
   "metadata": {},
   "outputs": [
    {
     "data": {
      "text/plain": [
       "artist\n",
       "Ivan Aivazovsky             500\n",
       "Ilya Repin                  500\n",
       "Pablo Picasso               500\n",
       "Marc Chagall                500\n",
       "Ivan Shishkin               500\n",
       "                           ... \n",
       "Blue, Blauw, Blau, Blue\"      1\n",
       "Setters & Pointer             1\n",
       "Portella della ginestra       1\n",
       "Sandskopa                     1\n",
       "Vogelvase                     1\n",
       "Name: count, Length: 2319, dtype: int64"
      ]
     },
     "execution_count": 242,
     "metadata": {},
     "output_type": "execute_result"
    }
   ],
   "source": [
    "#to reduce noise & makes classification more reliable I'm going to only keep Most Frequent artists(more than 50)\n",
    "#so first let's see what are the painting counts of each artists:\n",
    "df['artist'].value_counts()"
   ]
  },
  {
   "cell_type": "code",
   "execution_count": 243,
   "id": "99e6f2b1",
   "metadata": {},
   "outputs": [
    {
     "data": {
      "text/plain": [
       "artist\n",
       "Rembrandt                500\n",
       "Pierre-Auguste Renoir    500\n",
       "Albrecht Durer           500\n",
       "Gustave Dore             500\n",
       "Pablo Picasso            500\n",
       "                        ... \n",
       "Aurel Cojan               50\n",
       "William Holman Hunt       50\n",
       "Louis Marcoussis          50\n",
       "Burhan Dogancay           50\n",
       "Jean Dubuffet             50\n",
       "Name: count, Length: 525, dtype: int64"
      ]
     },
     "execution_count": 243,
     "metadata": {},
     "output_type": "execute_result"
    }
   ],
   "source": [
    "#only keeping those who have more than 50 paintings:\n",
    "\n",
    "# Step 1: Count paintings per artist\n",
    "artistcounts=df_clean['artist'].value_counts()\n",
    "\n",
    "# Step 2: Keep only artists with 50+ paintings\n",
    "popularartists=artistcounts[artistcounts>= 50].index\n",
    "\n",
    "# Step 3: Keep only those rows in the dataset\n",
    "reduceddf=df_clean[df_clean['artist'].isin(popularartists)]\n",
    "\n",
    "reduceddf['artist'].value_counts()"
   ]
  },
  {
   "cell_type": "markdown",
   "id": "021c2f25",
   "metadata": {},
   "source": [
    "## Cleaning the artists names"
   ]
  },
  {
   "cell_type": "code",
   "execution_count": 244,
   "id": "9c28d8f8",
   "metadata": {},
   "outputs": [
    {
     "name": "stderr",
     "output_type": "stream",
     "text": [
      "C:\\Users\\Maryam\\AppData\\Local\\Temp\\ipykernel_16108\\411109631.py:5: SettingWithCopyWarning: \n",
      "A value is trying to be set on a copy of a slice from a DataFrame.\n",
      "Try using .loc[row_indexer,col_indexer] = value instead\n",
      "\n",
      "See the caveats in the documentation: https://pandas.pydata.org/pandas-docs/stable/user_guide/indexing.html#returning-a-view-versus-a-copy\n",
      "  reduceddf[\"artist\"]=clean_artistnames\n"
     ]
    }
   ],
   "source": [
    "#folder names can't have \\\\/:*?\"<>| so I'll replace them (if there's any) with _ \n",
    "artistnames=reduceddf.copy()[\"artist\"] #artist column\n",
    "clean_artistnames=artistnames.str.replace(r'[\\\\/:*?\"<>|]', \"_\", regex=True)\n",
    "#putting back to the dataFrame\n",
    "reduceddf[\"artist\"]=clean_artistnames \n"
   ]
  },
  {
   "cell_type": "code",
   "execution_count": 245,
   "id": "9915298d",
   "metadata": {},
   "outputs": [],
   "source": [
    "#cleaning any duplicated names(if there's any)\n",
    "reduceddf = reduceddf.drop_duplicates()"
   ]
  },
  {
   "cell_type": "markdown",
   "id": "df7a856c",
   "metadata": {},
   "source": [
    "## Deleting missing files"
   ]
  },
  {
   "cell_type": "code",
   "execution_count": 246,
   "id": "3917ae66",
   "metadata": {},
   "outputs": [
    {
     "data": {
      "text/plain": [
       "artist\n",
       "Rembrandt                500\n",
       "Pierre-Auguste Renoir    500\n",
       "Albrecht Durer           500\n",
       "Gustave Dore             500\n",
       "Pablo Picasso            500\n",
       "                        ... \n",
       "Aurel Cojan               50\n",
       "William Holman Hunt       50\n",
       "Louis Marcoussis          50\n",
       "Burhan Dogancay           50\n",
       "Jean Dubuffet             50\n",
       "Name: count, Length: 525, dtype: int64"
      ]
     },
     "execution_count": 246,
     "metadata": {},
     "output_type": "execute_result"
    }
   ],
   "source": [
    "reduceddf['artist'].value_counts()"
   ]
  },
  {
   "cell_type": "code",
   "execution_count": null,
   "id": "d6a1d498",
   "metadata": {},
   "outputs": [],
   "source": [
    "for filename in sample_filenames:\n",
    "    filepath = os.path.join(image_folder, filename)\n",
    "    exists = os.path.exists(filepath)\n",
    "    print(f\"{filename} → {'Exists' if exists else 'Missing'}\")\n"
   ]
  },
  {
   "cell_type": "code",
   "execution_count": null,
   "id": "9ff09362",
   "metadata": {},
   "outputs": [],
   "source": [
    "# Keep only rows where the image file exists\n",
    "#finding the rows where the image file wasn't missing\n",
    "True_rows = ~reduceddf['new_filename'].isin(missing_files) # \"~\" means NOT :\n",
    "\"\"\"in the above line ising gives true for rows that don't got a pic so by \"~\" we will get rows that DO have a pic so we are assigning Trues to who have a pic\n",
    "so in the next line we can take out the rows in \"reduceddf\" that is assigned as True in True_rows\"\"\"\n",
    "filtered_df = reduceddf[True_rows]\n",
    "\n",
    "reduceddf = filtered_df.copy()"
   ]
  },
  {
   "cell_type": "code",
   "execution_count": 249,
   "id": "883f33a9",
   "metadata": {},
   "outputs": [
    {
     "data": {
      "text/plain": [
       "Series([], Name: count, dtype: int64)"
      ]
     },
     "execution_count": 249,
     "metadata": {},
     "output_type": "execute_result"
    }
   ],
   "source": [
    "reduceddf['artist'].value_counts()"
   ]
  },
  {
   "cell_type": "code",
   "execution_count": 250,
   "id": "547afa95",
   "metadata": {},
   "outputs": [
    {
     "name": "stdout",
     "output_type": "stream",
     "text": [
      "Files in image folder:\n",
      "['all_data_info.csv']\n",
      "\n",
      "Checking sample filenames from reduceddf:\n"
     ]
    }
   ],
   "source": [
    "import os\n",
    "\n",
    "image_folder = r\"C:\\Users\\Maryam\\Desktop\\DL maryam\\Part 3\\Painter Classification\\all_data_info.csv\"\n",
    "# Show 5 actual filenames from the image folder\n",
    "print(\"Files in image folder:\")\n",
    "print(os.listdir(image_folder)[:5])\n",
    "\n",
    "# Show first 10 filenames from your DataFrame and check if they exist\n",
    "print(\"\\nChecking sample filenames from reduceddf:\")\n",
    "\n",
    "sample_filenames = reduceddf['new_filename'].head(10)\n",
    "\n",
    "for filename in sample_filenames:\n",
    "    filepath = os.path.join(image_folder, filename)\n",
    "    exists = os.path.exists(filepath)\n",
    "    print(f\"{filename} → {'Exists' if exists else 'Missing'}\")\n"
   ]
  },
  {
   "cell_type": "code",
   "execution_count": 251,
   "id": "043fbb73",
   "metadata": {},
   "outputs": [
    {
     "name": "stdout",
     "output_type": "stream",
     "text": [
      "Checking image folder exists:\n",
      "True\n"
     ]
    }
   ],
   "source": [
    "import os\n",
    "\n",
    "print(\"Checking image folder exists:\")\n",
    "print(os.path.exists(image_folder))\n"
   ]
  }
 ],
 "metadata": {
  "kernelspec": {
   "display_name": "base",
   "language": "python",
   "name": "python3"
  },
  "language_info": {
   "codemirror_mode": {
    "name": "ipython",
    "version": 3
   },
   "file_extension": ".py",
   "mimetype": "text/x-python",
   "name": "python",
   "nbconvert_exporter": "python",
   "pygments_lexer": "ipython3",
   "version": "3.12.3"
  }
 },
 "nbformat": 4,
 "nbformat_minor": 5
}
